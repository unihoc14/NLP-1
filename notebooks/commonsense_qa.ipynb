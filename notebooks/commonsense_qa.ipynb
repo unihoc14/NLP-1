{
 "cells": [
  {
   "cell_type": "markdown",
   "metadata": {},
   "source": [
    "## **Introduction**\n",
    "\n",
    "In this notebook, I tackle the CommonsenseQA multiple-choice question answering task.  \n",
    "The goal is to train and evaluate two different neural architectures — a Feedforward Neural Network (FFNN) and a Long Short-Term Memory (LSTM) model — to predict the correct answer out of five possible choices for each question.\n",
    "\n",
    "To achieve this, I use pre-trained GloVe word embeddings to convert questions and answers into dense vector representations.  \n",
    "For the FFNN model, I apply mean pooling over token embeddings to create fixed-size input vectors.  \n",
    "The LSTM model, on the other hand, processes the full sequence of token embeddings to preserve word order and context.\n",
    "\n",
    "Both models are trained and evaluated on the CommonsenseQA dataset. I log performance metrics like training loss and validation accuracy using [Weights & Biases (wandb)](https://wandb.ai), and I compare the results of the two approaches to understand the strengths and limitations of each architecture in this context.\n",
    "\n",
    "The entire pipeline — from data preprocessing and embedding to training and evaluation — is implemented in PyTorch.\n"
   ]
  },
  {
   "cell_type": "markdown",
   "metadata": {},
   "source": [
    "## **1. Setup & Installations**\n",
    "\n",
    "**Rationale:**\n",
    "- `torch`: Required for model training and neural network operations.  \n",
    "- `datasets`: Loads the CommonsenseQA dataset from Hugging Face.  \n",
    "- `nltk`: Handles tokenization for text preprocessing.  \n",
    "- `gensim`: Provides access to pre-trained word embeddings (GloVe).  \n",
    "- `numpy`: Used for numerical tensor operations and padding.  \n",
    "- `re`: Cleans and normalizes text using regular expressions.  \n",
    "- `random`: Sets random seeds for reproducibility.  \n",
    "- `torch.nn`: Defines the LSTM-based classification model.  \n",
    "- `DataLoader`: Batches and shuffles the dataset during training.  \n",
    "- `wandb`: Used for tracking experiments, logging metrics, and visualizing model performance.  \n",
    "- `pad_sequence`: Pads variable-length sequences for batch processing with LSTMs.\n",
    "\n"
   ]
  },
  {
   "cell_type": "code",
   "execution_count": 1,
   "metadata": {},
   "outputs": [
    {
     "name": "stdout",
     "output_type": "stream",
     "text": [
      "Requirement already satisfied: torch in /opt/conda/lib/python3.12/site-packages (2.6.0+cu124)\n",
      "Requirement already satisfied: datasets in /opt/conda/lib/python3.12/site-packages (3.5.0)\n",
      "Requirement already satisfied: nltk in /opt/conda/lib/python3.12/site-packages (3.9.1)\n",
      "Requirement already satisfied: gensim in /opt/conda/lib/python3.12/site-packages (4.3.3)\n",
      "Requirement already satisfied: wandb in /opt/conda/lib/python3.12/site-packages (0.19.9)\n",
      "Requirement already satisfied: numpy in /opt/conda/lib/python3.12/site-packages (1.26.4)\n",
      "Requirement already satisfied: filelock in /opt/conda/lib/python3.12/site-packages (from torch) (3.13.1)\n",
      "Requirement already satisfied: typing-extensions>=4.10.0 in /opt/conda/lib/python3.12/site-packages (from torch) (4.12.2)\n",
      "Requirement already satisfied: networkx in /opt/conda/lib/python3.12/site-packages (from torch) (3.4.2)\n",
      "Requirement already satisfied: jinja2 in /opt/conda/lib/python3.12/site-packages (from torch) (3.1.6)\n",
      "Requirement already satisfied: fsspec in /opt/conda/lib/python3.12/site-packages (from torch) (2024.12.0)\n",
      "Requirement already satisfied: nvidia-cuda-nvrtc-cu12==12.4.127 in /opt/conda/lib/python3.12/site-packages (from torch) (12.4.127)\n",
      "Requirement already satisfied: nvidia-cuda-runtime-cu12==12.4.127 in /opt/conda/lib/python3.12/site-packages (from torch) (12.4.127)\n",
      "Requirement already satisfied: nvidia-cuda-cupti-cu12==12.4.127 in /opt/conda/lib/python3.12/site-packages (from torch) (12.4.127)\n",
      "Requirement already satisfied: nvidia-cudnn-cu12==9.1.0.70 in /opt/conda/lib/python3.12/site-packages (from torch) (9.1.0.70)\n",
      "Requirement already satisfied: nvidia-cublas-cu12==12.4.5.8 in /opt/conda/lib/python3.12/site-packages (from torch) (12.4.5.8)\n",
      "Requirement already satisfied: nvidia-cufft-cu12==11.2.1.3 in /opt/conda/lib/python3.12/site-packages (from torch) (11.2.1.3)\n",
      "Requirement already satisfied: nvidia-curand-cu12==10.3.5.147 in /opt/conda/lib/python3.12/site-packages (from torch) (10.3.5.147)\n",
      "Requirement already satisfied: nvidia-cusolver-cu12==11.6.1.9 in /opt/conda/lib/python3.12/site-packages (from torch) (11.6.1.9)\n",
      "Requirement already satisfied: nvidia-cusparse-cu12==12.3.1.170 in /opt/conda/lib/python3.12/site-packages (from torch) (12.3.1.170)\n",
      "Requirement already satisfied: nvidia-cusparselt-cu12==0.6.2 in /opt/conda/lib/python3.12/site-packages (from torch) (0.6.2)\n",
      "Requirement already satisfied: nvidia-nccl-cu12==2.21.5 in /opt/conda/lib/python3.12/site-packages (from torch) (2.21.5)\n",
      "Requirement already satisfied: nvidia-nvtx-cu12==12.4.127 in /opt/conda/lib/python3.12/site-packages (from torch) (12.4.127)\n",
      "Requirement already satisfied: nvidia-nvjitlink-cu12==12.4.127 in /opt/conda/lib/python3.12/site-packages (from torch) (12.4.127)\n",
      "Requirement already satisfied: triton==3.2.0 in /opt/conda/lib/python3.12/site-packages (from torch) (3.2.0)\n",
      "Requirement already satisfied: setuptools in /opt/conda/lib/python3.12/site-packages (from torch) (75.8.2)\n",
      "Requirement already satisfied: sympy==1.13.1 in /opt/conda/lib/python3.12/site-packages (from torch) (1.13.1)\n",
      "Requirement already satisfied: mpmath<1.4,>=1.1.0 in /opt/conda/lib/python3.12/site-packages (from sympy==1.13.1->torch) (1.3.0)\n",
      "Requirement already satisfied: pyarrow>=15.0.0 in /opt/conda/lib/python3.12/site-packages (from datasets) (19.0.1)\n",
      "Requirement already satisfied: dill<0.3.9,>=0.3.0 in /opt/conda/lib/python3.12/site-packages (from datasets) (0.3.8)\n",
      "Requirement already satisfied: pandas in /opt/conda/lib/python3.12/site-packages (from datasets) (2.2.3)\n",
      "Requirement already satisfied: requests>=2.32.2 in /opt/conda/lib/python3.12/site-packages (from datasets) (2.32.3)\n",
      "Requirement already satisfied: tqdm>=4.66.3 in /opt/conda/lib/python3.12/site-packages (from datasets) (4.67.1)\n",
      "Requirement already satisfied: xxhash in /opt/conda/lib/python3.12/site-packages (from datasets) (3.5.0)\n",
      "Requirement already satisfied: multiprocess<0.70.17 in /opt/conda/lib/python3.12/site-packages (from datasets) (0.70.16)\n",
      "Requirement already satisfied: aiohttp in /opt/conda/lib/python3.12/site-packages (from datasets) (3.11.16)\n",
      "Requirement already satisfied: huggingface-hub>=0.24.0 in /opt/conda/lib/python3.12/site-packages (from datasets) (0.30.1)\n",
      "Requirement already satisfied: packaging in /opt/conda/lib/python3.12/site-packages (from datasets) (24.2)\n",
      "Requirement already satisfied: pyyaml>=5.1 in /opt/conda/lib/python3.12/site-packages (from datasets) (6.0.2)\n",
      "Requirement already satisfied: click in /opt/conda/lib/python3.12/site-packages (from nltk) (8.1.8)\n",
      "Requirement already satisfied: joblib in /opt/conda/lib/python3.12/site-packages (from nltk) (1.4.2)\n",
      "Requirement already satisfied: regex>=2021.8.3 in /opt/conda/lib/python3.12/site-packages (from nltk) (2024.11.6)\n",
      "Requirement already satisfied: scipy<1.14.0,>=1.7.0 in /opt/conda/lib/python3.12/site-packages (from gensim) (1.13.1)\n",
      "Requirement already satisfied: smart-open>=1.8.1 in /opt/conda/lib/python3.12/site-packages (from gensim) (7.1.0)\n",
      "Requirement already satisfied: docker-pycreds>=0.4.0 in /opt/conda/lib/python3.12/site-packages (from wandb) (0.4.0)\n",
      "Requirement already satisfied: gitpython!=3.1.29,>=1.0.0 in /opt/conda/lib/python3.12/site-packages (from wandb) (3.1.44)\n",
      "Requirement already satisfied: platformdirs in /opt/conda/lib/python3.12/site-packages (from wandb) (4.3.6)\n",
      "Requirement already satisfied: protobuf!=4.21.0,!=5.28.0,<6,>=3.19.0 in /opt/conda/lib/python3.12/site-packages (from wandb) (5.28.3)\n",
      "Requirement already satisfied: psutil>=5.0.0 in /opt/conda/lib/python3.12/site-packages (from wandb) (7.0.0)\n",
      "Requirement already satisfied: pydantic<3 in /opt/conda/lib/python3.12/site-packages (from wandb) (2.10.6)\n",
      "Requirement already satisfied: sentry-sdk>=2.0.0 in /opt/conda/lib/python3.12/site-packages (from wandb) (2.25.1)\n",
      "Requirement already satisfied: setproctitle in /opt/conda/lib/python3.12/site-packages (from wandb) (1.3.5)\n",
      "Requirement already satisfied: six>=1.4.0 in /opt/conda/lib/python3.12/site-packages (from docker-pycreds>=0.4.0->wandb) (1.17.0)\n",
      "Requirement already satisfied: aiohappyeyeballs>=2.3.0 in /opt/conda/lib/python3.12/site-packages (from aiohttp->datasets) (2.6.1)\n",
      "Requirement already satisfied: aiosignal>=1.1.2 in /opt/conda/lib/python3.12/site-packages (from aiohttp->datasets) (1.3.2)\n",
      "Requirement already satisfied: attrs>=17.3.0 in /opt/conda/lib/python3.12/site-packages (from aiohttp->datasets) (25.1.0)\n",
      "Requirement already satisfied: frozenlist>=1.1.1 in /opt/conda/lib/python3.12/site-packages (from aiohttp->datasets) (1.5.0)\n",
      "Requirement already satisfied: multidict<7.0,>=4.5 in /opt/conda/lib/python3.12/site-packages (from aiohttp->datasets) (6.3.2)\n",
      "Requirement already satisfied: propcache>=0.2.0 in /opt/conda/lib/python3.12/site-packages (from aiohttp->datasets) (0.3.1)\n",
      "Requirement already satisfied: yarl<2.0,>=1.17.0 in /opt/conda/lib/python3.12/site-packages (from aiohttp->datasets) (1.19.0)\n",
      "Requirement already satisfied: gitdb<5,>=4.0.1 in /opt/conda/lib/python3.12/site-packages (from gitpython!=3.1.29,>=1.0.0->wandb) (4.0.12)\n",
      "Requirement already satisfied: annotated-types>=0.6.0 in /opt/conda/lib/python3.12/site-packages (from pydantic<3->wandb) (0.7.0)\n",
      "Requirement already satisfied: pydantic-core==2.27.2 in /opt/conda/lib/python3.12/site-packages (from pydantic<3->wandb) (2.27.2)\n",
      "Requirement already satisfied: charset_normalizer<4,>=2 in /opt/conda/lib/python3.12/site-packages (from requests>=2.32.2->datasets) (3.4.1)\n",
      "Requirement already satisfied: idna<4,>=2.5 in /opt/conda/lib/python3.12/site-packages (from requests>=2.32.2->datasets) (3.10)\n",
      "Requirement already satisfied: urllib3<3,>=1.21.1 in /opt/conda/lib/python3.12/site-packages (from requests>=2.32.2->datasets) (2.3.0)\n",
      "Requirement already satisfied: certifi>=2017.4.17 in /opt/conda/lib/python3.12/site-packages (from requests>=2.32.2->datasets) (2025.1.31)\n",
      "Requirement already satisfied: wrapt in /opt/conda/lib/python3.12/site-packages (from smart-open>=1.8.1->gensim) (1.17.2)\n",
      "Requirement already satisfied: MarkupSafe>=2.0 in /opt/conda/lib/python3.12/site-packages (from jinja2->torch) (3.0.2)\n",
      "Requirement already satisfied: python-dateutil>=2.8.2 in /opt/conda/lib/python3.12/site-packages (from pandas->datasets) (2.9.0.post0)\n",
      "Requirement already satisfied: pytz>=2020.1 in /opt/conda/lib/python3.12/site-packages (from pandas->datasets) (2024.1)\n",
      "Requirement already satisfied: tzdata>=2022.7 in /opt/conda/lib/python3.12/site-packages (from pandas->datasets) (2025.1)\n",
      "Requirement already satisfied: smmap<6,>=3.0.1 in /opt/conda/lib/python3.12/site-packages (from gitdb<5,>=4.0.1->gitpython!=3.1.29,>=1.0.0->wandb) (5.0.2)\n",
      "Note: you may need to restart the kernel to use updated packages.\n"
     ]
    }
   ],
   "source": [
    "%pip install torch datasets nltk gensim wandb numpy"
   ]
  },
  {
   "cell_type": "code",
   "execution_count": 2,
   "metadata": {},
   "outputs": [],
   "source": [
    "import gensim.downloader as api\n",
    "import random\n",
    "import re\n",
    "import numpy as np\n",
    "import torch\n",
    "import torch.nn as nn\n",
    "import torch.nn.functional as F\n",
    "from nltk.tokenize import TreebankWordTokenizer\n",
    "from torch.utils.data import Dataset, DataLoader\n",
    "from datasets import load_dataset\n",
    "import wandb\n",
    "from torch.nn.utils.rnn import pad_sequence"
   ]
  },
  {
   "cell_type": "markdown",
   "metadata": {},
   "source": [
    "## **2. Reproducibility Setup**\n",
    "\n",
    "**Rationale:**  \n",
    "To make sure that my results stay the same every time I run the training, I set all important random seeds. This includes `random`, `numpy`, and `torch` – both for CPU and GPU. I also made PyTorch's cuDNN backend deterministic. That means I turned off some automatic optimizations to make the behavior of the model more stable. Even if this can slow things down a little, it helps a lot when comparing results or debugging the model.\n"
   ]
  },
  {
   "cell_type": "code",
   "execution_count": 3,
   "metadata": {},
   "outputs": [],
   "source": [
    "random.seed(42)\n",
    "np.random.seed(42)\n",
    "torch.manual_seed(42)\n",
    "torch.cuda.manual_seed_all(42)\n",
    "torch.backends.cudnn.deterministic = True\n",
    "torch.backends.cudnn.benchmark = False"
   ]
  },
  {
   "cell_type": "markdown",
   "metadata": {},
   "source": [
    "## **3. Dataset Conversion: `process_data()`**\n",
    "\n",
    "**Rationale:**  \n",
    "The original CommonsenseQA dataset has a complex structure with nested fields. I wrote this function to simplify each entry into a format that is easier to use during training. For each example, I extract the question, the list of answer choices, and the correct label (if available).\n",
    "\n",
    "If the example comes from the test set and has no label, I set the label to `-1` as a placeholder. This way, I can still use the same format for training, validation, and test data without breaking my pipeline. It also makes it easier to later create the dataset and pass it into the model.\n"
   ]
  },
  {
   "cell_type": "code",
   "execution_count": 4,
   "metadata": {},
   "outputs": [],
   "source": [
    "def process_data(hf_dataset):\n",
    "    converted = []\n",
    "    for item in hf_dataset:\n",
    "        question = item[\"question\"]\n",
    "        choices = item[\"choices\"][\"text\"]\n",
    "        correct_label = item.get(\"answerKey\", None)\n",
    "        if correct_label is not None:\n",
    "            label_index = item[\"choices\"][\"label\"].index(correct_label)\n",
    "        else:\n",
    "            label_index = -1\n",
    "\n",
    "        converted.append({\n",
    "            \"question\": question,\n",
    "            \"choices\": choices,\n",
    "            \"label\": label_index\n",
    "        })\n",
    "    return converted"
   ]
  },
  {
   "cell_type": "markdown",
   "metadata": {},
   "source": [
    "## **4. Text Preprocessing and Tokenization**\n",
    "\n",
    "**Rationale:**  \n",
    "For tokenization, I use the `TreebankWordTokenizer` from NLTK. I chose this tokenizer because it is simple and works well for clean English text like the questions and answer choices in CommonsenseQA. It splits the text into words in a way that is compatible with word embeddings like GloVe.\n",
    "\n",
    "In the `preprocess_text()` function, I first lowercase the input and remove all punctuation using a regular expression. This makes the tokenization and embedding lookup more consistent, because GloVe embeddings are usually trained on lowercase, punctuation-free text. These steps help reduce noise and improve the quality of the input vectors.\n"
   ]
  },
  {
   "cell_type": "code",
   "execution_count": 5,
   "metadata": {},
   "outputs": [],
   "source": [
    "tokenizer = TreebankWordTokenizer()\n",
    "\n",
    "def preprocess_text(text):\n",
    "    text = text.lower()\n",
    "    text = re.sub(r'[^\\w\\s]', '', text)\n",
    "    return tokenizer.tokenize(text)"
   ]
  },
  {
   "cell_type": "markdown",
   "metadata": {},
   "source": [
    "## **5. Loading GloVe Word Embeddings**\n",
    "\n",
    "**Rationale:**  \n",
    "I use this function to load pre-trained GloVe word embeddings from a text file. Each line in the file contains a word followed by its embedding vector. I read the file line by line, split each line, and store the word and its vector in a Python dictionary.\n",
    "\n",
    "I chose GloVe instead of Word2Vec or FastText because GloVe gives a good balance between quality and speed. Word2Vec is similar but often needs more tuning. FastText can handle unknown words better, but it is slower and uses subword units, which I don't need in this case. Since the CommonsenseQA dataset mostly uses common English words, GloVe is a simple and strong choice that works well here.\n"
   ]
  },
  {
   "cell_type": "code",
   "execution_count": 6,
   "metadata": {},
   "outputs": [],
   "source": [
    "def load_glove_embeddings(filepath):\n",
    "    embeddings = {}\n",
    "    with open(filepath, 'r', encoding='utf8') as f:\n",
    "        for line in f:\n",
    "            parts = line.strip().split()\n",
    "            word = parts[0]\n",
    "            vector = list(map(float, parts[1:]))\n",
    "            embeddings[word] = vector\n",
    "    return embeddings\n"
   ]
  },
  {
   "cell_type": "markdown",
   "metadata": {},
   "source": [
    "## **6. Converting Tokens to Embedding Vectors**\n",
    "\n",
    "**Rationale:**  \n",
    "This function takes a list of tokens and converts each one into its GloVe embedding vector. If the token exists in the embedding dictionary, I use its pre-trained vector. If the token is unknown (not in the dictionary), I use a zero vector as a placeholder.\n",
    "\n",
    "I made this decision to keep the input shape consistent and avoid errors during model training. Using a zero vector for unknown words is a simple way to handle out-of-vocabulary tokens without making the model more complex. Since GloVe covers most common English words, this solution works well in practice.\n"
   ]
  },
  {
   "cell_type": "code",
   "execution_count": 7,
   "metadata": {},
   "outputs": [],
   "source": [
    "def tokens_to_embedding(tokens, embedding_dict, dim=300):\n",
    "    vectors = []\n",
    "    for token in tokens:\n",
    "        if token in embedding_dict:\n",
    "            vectors.append(embedding_dict[token])\n",
    "        else:\n",
    "            vectors.append([0.0] * dim)\n",
    "    return np.array(vectors)"
   ]
  },
  {
   "cell_type": "markdown",
   "metadata": {},
   "source": [
    "## **7. Mean Pooling for Feedforward Input**\n",
    "\n",
    "**Rationale:**  \n",
    "This function takes the embedding matrix of a tokenized input (e.g., a question and one answer choice) and computes the mean of all token embeddings. I use this mean vector as the input to the feedforward classifier.\n",
    "\n",
    "I chose mean pooling because it is simple, fast, and works well for fixed-size input. It reduces a variable-length sequence into a single fixed-size vector without adding trainable parameters. Since the feedforward network cannot process sequences, this method is a practical way to summarize the meaning of the input.\n"
   ]
  },
  {
   "cell_type": "code",
   "execution_count": 8,
   "metadata": {},
   "outputs": [],
   "source": [
    "def mean_pooling_ffnn(embedding_matrix):\n",
    "    if embedding_matrix.shape[0] == 0:\n",
    "        return np.zeros((embedding_matrix.shape[1],))\n",
    "    return np.mean(embedding_matrix, axis=0)"
   ]
  },
  {
   "cell_type": "markdown",
   "metadata": {},
   "source": [
    "## **8. Encoding Questions and Choices for Feedforward Input**\n",
    "\n",
    "**Rationale:**  \n",
    "These two functions prepare the input for the feedforward classifier. First, I join the question and each answer choice into a single string. Then I tokenize the text, convert the tokens into GloVe vectors, and apply mean pooling to get one fixed-size vector per choice.\n",
    "\n",
    "I repeat this for all 5 answer options and return a stacked array of shape `[5, 300]`. This format is required for the feedforward model, which expects fixed-length input vectors. I chose this approach because it keeps the input simple and avoids using sequence models like LSTMs for this part of the project.\n"
   ]
  },
  {
   "cell_type": "code",
   "execution_count": 9,
   "metadata": {},
   "outputs": [],
   "source": [
    "def encode_question_choice_ffnn(question, choice, glove, dim=300):\n",
    "    text = f\"{question} {choice}\"\n",
    "    tokens = preprocess_text(text)\n",
    "    embs = tokens_to_embedding(tokens, glove, dim)\n",
    "    return mean_pooling_ffnn(embs)\n",
    "\n",
    "def encode_all_choices_ffnn(example, glove, dim=300):\n",
    "    return np.stack([\n",
    "        encode_question_choice_ffnn(example[\"question\"], choice, glove, dim)\n",
    "        for choice in example[\"choices\"]\n",
    "    ])"
   ]
  },
  {
   "cell_type": "markdown",
   "metadata": {},
   "source": [
    "## **9. Dataset Class for Feedforward Classifier**\n",
    "\n",
    "**Rationale:**  \n",
    "This custom `CommonsenseQADataset` class prepares the data for the feedforward model. In the `__getitem__` method, I encode the question and each of the five answer choices using GloVe embeddings and mean pooling. The result is a tensor of shape `[5, 300]`, which matches the model’s expected input.\n",
    "\n",
    "I return both the encoded choices and the correct label as PyTorch tensors. This class makes it easy to load and batch the data using a `DataLoader`. I kept the design simple and efficient because the feedforward model does not need sequence-level operations like padding or masking.\n"
   ]
  },
  {
   "cell_type": "code",
   "execution_count": 10,
   "metadata": {},
   "outputs": [],
   "source": [
    "class CommonsenseQADataset(Dataset):\n",
    "    def __init__(self, data, glove, dim=300):\n",
    "        self.data = data\n",
    "        self.glove = glove\n",
    "        self.dim = dim\n",
    "\n",
    "    def __len__(self):\n",
    "        return len(self.data)\n",
    "\n",
    "    def __getitem__(self, idx):\n",
    "        item = self.data[idx]\n",
    "        x = encode_all_choices_ffnn(item, self.glove, self.dim)\n",
    "        y = item[\"label\"]\n",
    "        return torch.tensor(x, dtype=torch.float32), torch.tensor(y, dtype=torch.long)"
   ]
  },
  {
   "cell_type": "markdown",
   "metadata": {},
   "source": [
    "## **10. Feedforward Classifier Architecture**\n",
    "\n",
    "**Rationale:**  \n",
    "This is the classifier I use for the feedforward model. It takes the 5 answer choices per sample, each as a 300-dimensional GloVe vector. I first flatten the input so that I can apply the same feedforward layers to all choices. Then I use two linear layers with a ReLU activation between them.\n",
    "\n",
    "I chose a hidden dimension of 512 to keep the model light and efficient, while still giving it enough capacity to learn useful patterns from the input. A smaller hidden size also helps reduce overfitting and training time, which is important because the model does not use deep or sequential structure like LSTMs. The final output is reshaped back to `[batch_size, 5]` so that the model can score each answer choice.\n"
   ]
  },
  {
   "cell_type": "code",
   "execution_count": 11,
   "metadata": {},
   "outputs": [],
   "source": [
    "class QAClassifierFFNN(nn.Module):\n",
    "    def __init__(self, input_dim=300, hidden_dim=128):\n",
    "        super().__init__()\n",
    "        self.fc1 = nn.Linear(input_dim, hidden_dim)\n",
    "        self.fc2 = nn.Linear(hidden_dim, 1)\n",
    "\n",
    "    def forward(self, x):\n",
    "        batch_size = x.size(0)\n",
    "        x = x.view(-1, x.size(-1))\n",
    "        x = F.relu(self.fc1(x))\n",
    "        x = self.fc2(x)\n",
    "        x = x.view(batch_size, 5)\n",
    "        return x"
   ]
  },
  {
   "cell_type": "markdown",
   "metadata": {},
   "source": [
    "## **11. Training Loop**\n",
    "\n",
    "**Rationale:**  \n",
    "This function trains the model for one full pass over the dataset (one epoch). I set the model to training mode, move the input and labels to the correct device (CPU or GPU), and calculate the predictions using the forward pass.\n",
    "\n",
    "Then I compute the loss, backpropagate the gradients, and update the model weights using the optimizer. I add up the loss values to calculate the average loss at the end of the epoch.\n",
    "\n",
    "This simple structure is easy to follow and flexible. It works for both my LSTM and feedforward models, and it lets me monitor training performance clearly.\n"
   ]
  },
  {
   "cell_type": "code",
   "execution_count": 12,
   "metadata": {},
   "outputs": [],
   "source": [
    "def train_model(model, dataloader, optimizer, criterion, device):\n",
    "    model.train()\n",
    "    total_loss = 0\n",
    "\n",
    "    for x_batch, y_batch in dataloader:\n",
    "        x_batch, y_batch = x_batch.to(device), y_batch.to(device)\n",
    "\n",
    "        optimizer.zero_grad()\n",
    "        logits = model(x_batch)\n",
    "        loss = criterion(logits, y_batch)\n",
    "        loss.backward()\n",
    "        optimizer.step()\n",
    "\n",
    "        total_loss += loss.item()\n",
    "\n",
    "    return total_loss / len(dataloader)"
   ]
  },
  {
   "cell_type": "markdown",
   "metadata": {},
   "source": [
    "## **12. Evaluation Function**\n",
    "\n",
    "**Rationale:**  \n",
    "This function measures the accuracy of the model on a validation or test set. I set the model to evaluation mode to disable dropout or other training-specific behavior. I also use `torch.no_grad()` to save memory and speed up the evaluation.\n",
    "\n",
    "For each batch, I compute the model’s predictions and compare them to the true labels. I count how many predictions are correct and divide by the total number of samples to get the accuracy.\n",
    "\n",
    "I chose accuracy as the evaluation metric because the task is multiple-choice classification, where only one answer is correct. It’s a clear and intuitive way to track model performance during development.\n"
   ]
  },
  {
   "cell_type": "code",
   "execution_count": 13,
   "metadata": {},
   "outputs": [],
   "source": [
    "def evaluate(model, dataloader, device):\n",
    "    model.eval()\n",
    "    correct = 0\n",
    "    total = 0\n",
    "\n",
    "    with torch.no_grad():\n",
    "        for x_batch, y_batch in dataloader:\n",
    "            x_batch, y_batch = x_batch.to(device), y_batch.to(device)\n",
    "            logits = model(x_batch)\n",
    "            preds = torch.argmax(logits, dim=1)\n",
    "            correct += (preds == y_batch).sum().item()\n",
    "            total += y_batch.size(0)\n",
    "\n",
    "    return correct / total"
   ]
  },
  {
   "cell_type": "markdown",
   "metadata": {},
   "source": [
    "## **13. Dataset Loading and Splitting**\n",
    "\n",
    "**Rationale:**  \n",
    "I load the CommonsenseQA dataset from Hugging Face using the `datasets` library. The split between training and validation (last 1,000 examples) is done exactly as described in the project instructions. The test set is also loaded as specified. I followed this setup to stay consistent with the given evaluation protocol.\n"
   ]
  },
  {
   "cell_type": "code",
   "execution_count": 14,
   "metadata": {},
   "outputs": [
    {
     "name": "stdout",
     "output_type": "stream",
     "text": [
      "8741 1000 1221\n"
     ]
    }
   ],
   "source": [
    "train = load_dataset(\"tau/commonsense_qa\", split=\"train[:-1000]\")\n",
    "valid = load_dataset(\"tau/commonsense_qa\", split=\"train[-1000:]\")\n",
    "test = load_dataset(\"tau/commonsense_qa\", split=\"validation\")\n",
    "\n",
    "print(len(train), len(valid), len(test))"
   ]
  },
  {
   "cell_type": "markdown",
   "metadata": {},
   "source": [
    "## **14. Dataset Preprocessing**\n",
    "\n",
    "**Rationale:**  \n",
    "After loading the dataset, I convert each split (train, validation, test) into a simplified format using my `process_data()` function. This step extracts only the question, the list of answer choices, and the correct label (if available).\n",
    "\n",
    "I followed this preprocessing step to make the dataset easier to use with my custom PyTorch `Dataset` classes. It also helps keep the training and evaluation code clean and consistent across all splits.\n"
   ]
  },
  {
   "cell_type": "code",
   "execution_count": 15,
   "metadata": {},
   "outputs": [],
   "source": [
    "train_data = process_data(train)\n",
    "valid_data = process_data(valid)\n",
    "test_data = process_data(test)"
   ]
  },
  {
   "cell_type": "markdown",
   "metadata": {},
   "source": [
    "## **15. Embedding and DataLoader Setup**\n",
    "\n",
    "**Rationale:**  \n",
    "I load the pre-trained GloVe embeddings using the `gensim` API. I use the 300-dimensional version (`glove-wiki-gigaword-300`) because it provides a good balance between performance and vocabulary coverage for English.\n",
    "\n",
    "Then, I wrap the processed data in my custom `CommonsenseQADataset` class and use PyTorch’s `DataLoader` to batch the data. I set the batch size to 4096 to speed up training and make efficient use of the GPU memory. I shuffle only the training set to make sure the model learns better, while keeping validation and test data in fixed order.\n"
   ]
  },
  {
   "cell_type": "code",
   "execution_count": 16,
   "metadata": {},
   "outputs": [],
   "source": [
    "glove = api.load(\"glove-wiki-gigaword-300\")\n",
    "\n",
    "train_dataset = CommonsenseQADataset(train_data, glove)\n",
    "valid_dataset = CommonsenseQADataset(valid_data, glove)\n",
    "test_dataset = CommonsenseQADataset(test_data, glove)\n",
    "\n",
    "train_loader = DataLoader(train_dataset, batch_size=4096, shuffle=True)\n",
    "valid_loader = DataLoader(valid_dataset, batch_size=4096)\n",
    "test_loader = DataLoader(test_dataset, batch_size=4096)"
   ]
  },
  {
   "cell_type": "markdown",
   "metadata": {},
   "source": [
    "## **16. Device Selection and Model Initialization**\n",
    "\n",
    "**Rationale:**  \n",
    "I check if a GPU is available and move the model to the appropriate device. If CUDA is available, the model runs on GPU to speed up training. Otherwise, it falls back to CPU.\n",
    "\n",
    "Then, I create an instance of my `QAClassifierFFNN` model and send it to the selected device. This step is important because both the model and all input tensors must be on the same device to avoid runtime errors during training and evaluation.\n"
   ]
  },
  {
   "cell_type": "code",
   "execution_count": 17,
   "metadata": {},
   "outputs": [],
   "source": [
    "device = torch.device(\"cuda\" if torch.cuda.is_available() else \"cpu\")\n",
    "model = QAClassifierFFNN().to(device)"
   ]
  },
  {
   "cell_type": "markdown",
   "metadata": {},
   "source": [
    "## **17. Optimizer and Loss Function**\n",
    "\n",
    "**Rationale:**  \n",
    "I use the Adam optimizer because it works well in practice for many NLP tasks and usually needs little tuning. It adjusts the learning rate automatically for each parameter, which helps the model converge faster and more reliably.\n",
    "\n",
    "For the loss function, I use `CrossEntropyLoss`, which is the standard choice for multi-class classification problems like CommonsenseQA. It compares the model’s predicted logits with the true labels and gives a single scalar loss value to minimize.\n"
   ]
  },
  {
   "cell_type": "code",
   "execution_count": 18,
   "metadata": {},
   "outputs": [],
   "source": [
    "optimizer = torch.optim.Adam(model.parameters(), lr=1e-3)\n",
    "criterion = nn.CrossEntropyLoss()"
   ]
  },
  {
   "cell_type": "markdown",
   "metadata": {},
   "source": [
    "## **18. Training Loop with Weights & Biases Tracking**\n",
    "\n",
    "**Rationale:**  \n",
    "I use Weights & Biases (wandb) to track the training progress and log useful metrics like training loss and validation accuracy. This helps me monitor how the model performs over time and compare different runs later.\n",
    "\n",
    "I store training settings like model type, learning rate, and batch size in the `wandb.config` to keep all experiment details in one place. During training, I log the loss and accuracy for each epoch. I also save the best-performing model (based on validation accuracy) so I can reload it later without retraining. This setup makes it easier to debug, compare, and reproduce results.\n"
   ]
  },
  {
   "cell_type": "code",
   "execution_count": 31,
   "metadata": {},
   "outputs": [
    {
     "data": {
      "text/html": [],
      "text/plain": [
       "<IPython.core.display.HTML object>"
      ]
     },
     "metadata": {},
     "output_type": "display_data"
    },
    {
     "data": {
      "text/html": [
       "<br>    <style><br>        .wandb-row {<br>            display: flex;<br>            flex-direction: row;<br>            flex-wrap: wrap;<br>            justify-content: flex-start;<br>            width: 100%;<br>        }<br>        .wandb-col {<br>            display: flex;<br>            flex-direction: column;<br>            flex-basis: 100%;<br>            flex: 1;<br>            padding: 10px;<br>        }<br>    </style><br><div class=\"wandb-row\"><div class=\"wandb-col\"><h3>Run history:</h3><br/><table class=\"wandb\"><tr><td>epoch</td><td>▁█</td></tr><tr><td>train_loss</td><td>█▁</td></tr><tr><td>val_accuracy</td><td>▁█</td></tr></table><br/></div><div class=\"wandb-col\"><h3>Run summary:</h3><br/><table class=\"wandb\"><tr><td>epoch</td><td>2</td></tr><tr><td>train_loss</td><td>1.58771</td></tr><tr><td>val_accuracy</td><td>0.245</td></tr></table><br/></div></div>"
      ],
      "text/plain": [
       "<IPython.core.display.HTML object>"
      ]
     },
     "metadata": {},
     "output_type": "display_data"
    },
    {
     "data": {
      "text/html": [
       " View run <strong style=\"color:#cdcd00\">ffnn_run_lr_1e-3,hid_dim_128</strong> at: <a href='https://wandb.ai/commonsense_qa_jonas_buerge/NLP_Project_1/runs/q3khebhl' target=\"_blank\">https://wandb.ai/commonsense_qa_jonas_buerge/NLP_Project_1/runs/q3khebhl</a><br> View project at: <a href='https://wandb.ai/commonsense_qa_jonas_buerge/NLP_Project_1' target=\"_blank\">https://wandb.ai/commonsense_qa_jonas_buerge/NLP_Project_1</a><br>Synced 5 W&B file(s), 0 media file(s), 0 artifact file(s) and 1 other file(s)"
      ],
      "text/plain": [
       "<IPython.core.display.HTML object>"
      ]
     },
     "metadata": {},
     "output_type": "display_data"
    },
    {
     "data": {
      "text/html": [
       "Find logs at: <code>./wandb/run-20250407_233049-q3khebhl/logs</code>"
      ],
      "text/plain": [
       "<IPython.core.display.HTML object>"
      ]
     },
     "metadata": {},
     "output_type": "display_data"
    },
    {
     "data": {
      "text/html": [
       "Tracking run with wandb version 0.19.9"
      ],
      "text/plain": [
       "<IPython.core.display.HTML object>"
      ]
     },
     "metadata": {},
     "output_type": "display_data"
    },
    {
     "data": {
      "text/html": [
       "Run data is saved locally in <code>/home/jovyan/NLP-1/notebooks/wandb/run-20250407_233105-npo3yo2n</code>"
      ],
      "text/plain": [
       "<IPython.core.display.HTML object>"
      ]
     },
     "metadata": {},
     "output_type": "display_data"
    },
    {
     "data": {
      "text/html": [
       "Syncing run <strong><a href='https://wandb.ai/commonsense_qa_jonas_buerge/NLP_Project_1/runs/npo3yo2n' target=\"_blank\">ffnn_run_lr_1e-3,hid_dim_128</a></strong> to <a href='https://wandb.ai/commonsense_qa_jonas_buerge/NLP_Project_1' target=\"_blank\">Weights & Biases</a> (<a href='https://wandb.me/developer-guide' target=\"_blank\">docs</a>)<br>"
      ],
      "text/plain": [
       "<IPython.core.display.HTML object>"
      ]
     },
     "metadata": {},
     "output_type": "display_data"
    },
    {
     "data": {
      "text/html": [
       " View project at <a href='https://wandb.ai/commonsense_qa_jonas_buerge/NLP_Project_1' target=\"_blank\">https://wandb.ai/commonsense_qa_jonas_buerge/NLP_Project_1</a>"
      ],
      "text/plain": [
       "<IPython.core.display.HTML object>"
      ]
     },
     "metadata": {},
     "output_type": "display_data"
    },
    {
     "data": {
      "text/html": [
       " View run at <a href='https://wandb.ai/commonsense_qa_jonas_buerge/NLP_Project_1/runs/npo3yo2n' target=\"_blank\">https://wandb.ai/commonsense_qa_jonas_buerge/NLP_Project_1/runs/npo3yo2n</a>"
      ],
      "text/plain": [
       "<IPython.core.display.HTML object>"
      ]
     },
     "metadata": {},
     "output_type": "display_data"
    },
    {
     "name": "stdout",
     "output_type": "stream",
     "text": [
      "Epoch 1 | Loss: 1.5885 | Val Acc: 0.2430\n",
      "Epoch 2 | Loss: 1.5834 | Val Acc: 0.2420\n",
      "Epoch 3 | Loss: 1.5820 | Val Acc: 0.2440\n",
      "Epoch 4 | Loss: 1.5836 | Val Acc: 0.2480\n",
      "Epoch 5 | Loss: 1.5817 | Val Acc: 0.2560\n",
      "Epoch 6 | Loss: 1.5792 | Val Acc: 0.2560\n",
      "Epoch 7 | Loss: 1.5781 | Val Acc: 0.2550\n",
      "Epoch 8 | Loss: 1.5766 | Val Acc: 0.2570\n",
      "Epoch 9 | Loss: 1.5784 | Val Acc: 0.2550\n",
      "Epoch 10 | Loss: 1.5756 | Val Acc: 0.2590\n",
      "Epoch 11 | Loss: 1.5704 | Val Acc: 0.2570\n",
      "Epoch 12 | Loss: 1.5711 | Val Acc: 0.2550\n",
      "Epoch 13 | Loss: 1.5688 | Val Acc: 0.2500\n",
      "Epoch 14 | Loss: 1.5660 | Val Acc: 0.2530\n",
      "Epoch 15 | Loss: 1.5664 | Val Acc: 0.2500\n",
      "Epoch 16 | Loss: 1.5662 | Val Acc: 0.2470\n",
      "Epoch 17 | Loss: 1.5634 | Val Acc: 0.2420\n",
      "Epoch 18 | Loss: 1.5619 | Val Acc: 0.2450\n",
      "Epoch 19 | Loss: 1.5636 | Val Acc: 0.2500\n",
      "Epoch 20 | Loss: 1.5585 | Val Acc: 0.2570\n",
      "Epoch 21 | Loss: 1.5591 | Val Acc: 0.2630\n",
      "Epoch 22 | Loss: 1.5583 | Val Acc: 0.2640\n",
      "Epoch 23 | Loss: 1.5583 | Val Acc: 0.2630\n",
      "Epoch 24 | Loss: 1.5547 | Val Acc: 0.2660\n",
      "Epoch 25 | Loss: 1.5520 | Val Acc: 0.2680\n",
      "Epoch 26 | Loss: 1.5536 | Val Acc: 0.2670\n",
      "Epoch 27 | Loss: 1.5506 | Val Acc: 0.2710\n",
      "Epoch 28 | Loss: 1.5476 | Val Acc: 0.2740\n",
      "Epoch 29 | Loss: 1.5472 | Val Acc: 0.2710\n",
      "Epoch 30 | Loss: 1.5453 | Val Acc: 0.2760\n"
     ]
    },
    {
     "data": {
      "text/html": [],
      "text/plain": [
       "<IPython.core.display.HTML object>"
      ]
     },
     "metadata": {},
     "output_type": "display_data"
    },
    {
     "data": {
      "text/html": [
       "<br>    <style><br>        .wandb-row {<br>            display: flex;<br>            flex-direction: row;<br>            flex-wrap: wrap;<br>            justify-content: flex-start;<br>            width: 100%;<br>        }<br>        .wandb-col {<br>            display: flex;<br>            flex-direction: column;<br>            flex-basis: 100%;<br>            flex: 1;<br>            padding: 10px;<br>        }<br>    </style><br><div class=\"wandb-row\"><div class=\"wandb-col\"><h3>Run history:</h3><br/><table class=\"wandb\"><tr><td>epoch</td><td>▁▁▁▂▂▂▂▃▃▃▃▄▄▄▄▅▅▅▅▆▆▆▆▇▇▇▇███</td></tr><tr><td>train_loss</td><td>█▇▇▇▇▇▆▆▆▆▅▅▅▄▄▄▄▄▄▃▃▃▃▃▂▂▂▁▁▁</td></tr><tr><td>val_accuracy</td><td>▁▁▁▂▄▄▄▄▄▅▄▄▃▃▃▂▁▂▃▄▅▆▅▆▆▆▇█▇█</td></tr></table><br/></div><div class=\"wandb-col\"><h3>Run summary:</h3><br/><table class=\"wandb\"><tr><td>epoch</td><td>30</td></tr><tr><td>train_loss</td><td>1.54531</td></tr><tr><td>val_accuracy</td><td>0.276</td></tr></table><br/></div></div>"
      ],
      "text/plain": [
       "<IPython.core.display.HTML object>"
      ]
     },
     "metadata": {},
     "output_type": "display_data"
    },
    {
     "data": {
      "text/html": [
       " View run <strong style=\"color:#cdcd00\">ffnn_run_lr_1e-3,hid_dim_128</strong> at: <a href='https://wandb.ai/commonsense_qa_jonas_buerge/NLP_Project_1/runs/npo3yo2n' target=\"_blank\">https://wandb.ai/commonsense_qa_jonas_buerge/NLP_Project_1/runs/npo3yo2n</a><br> View project at: <a href='https://wandb.ai/commonsense_qa_jonas_buerge/NLP_Project_1' target=\"_blank\">https://wandb.ai/commonsense_qa_jonas_buerge/NLP_Project_1</a><br>Synced 5 W&B file(s), 0 media file(s), 0 artifact file(s) and 1 other file(s)"
      ],
      "text/plain": [
       "<IPython.core.display.HTML object>"
      ]
     },
     "metadata": {},
     "output_type": "display_data"
    },
    {
     "data": {
      "text/html": [
       "Find logs at: <code>./wandb/run-20250407_233105-npo3yo2n/logs</code>"
      ],
      "text/plain": [
       "<IPython.core.display.HTML object>"
      ]
     },
     "metadata": {},
     "output_type": "display_data"
    }
   ],
   "source": [
    "wandb.init(\n",
    "    entity=\"commonsense_qa_jonas_buerge\",\n",
    "    project=\"NLP_Project_1\",   \n",
    "    name=\"ffnn_run_lr_1e-3,hid_dim_128\",             \n",
    "    config={\n",
    "        \"model\": \"ffnn\",\n",
    "        \"embedding_dim\": 300,\n",
    "        \"hidden_dim\": 128,\n",
    "        \"fc_dim\": 64,\n",
    "        \"num_layers\": 2,\n",
    "        \"optimizer\": \"Adam\",\n",
    "        \"lr\": 1e-3,\n",
    "        \"batch_size\": 4096,\n",
    "        \"epochs\": 30\n",
    "    }\n",
    ")\n",
    "\n",
    "best_val_acc = 0.0\n",
    "\n",
    "for epoch in range(30):\n",
    "    train_loss = train_model(model, train_loader, optimizer, criterion, device)\n",
    "    val_acc = evaluate(model, valid_loader, device)\n",
    "\n",
    "    wandb.log({\n",
    "        \"epoch\": epoch + 1,\n",
    "        \"train_loss\": train_loss,\n",
    "        \"val_accuracy\": val_acc\n",
    "    })\n",
    "\n",
    "    if val_acc > best_val_acc:\n",
    "        best_val_acc = val_acc\n",
    "        model_filename = f\"{wandb.run.name}_best_model.pt\"\n",
    "        torch.save(model.state_dict(), model_filename)\n",
    "        wandb.save(model_filename)\n",
    "\n",
    "    print(f\"Epoch {epoch+1} | Loss: {train_loss:.4f} | Val Acc: {val_acc:.4f}\")\n",
    "\n",
    "wandb.finish()"
   ]
  },
  {
   "cell_type": "markdown",
   "metadata": {},
   "source": [
    "## **LSTM Part**"
   ]
  },
  {
   "cell_type": "markdown",
   "metadata": {},
   "source": [
    "## **19. Encoding for LSTM-Based Model**\n",
    "\n",
    "**Rationale:**  \n",
    "In this version, I prepare the input for my LSTM classifier. I combine the question and each answer choice into one string, using `[SEP]` as a separator to help the model understand where the question ends and the choice begins.\n",
    "\n",
    "Then I tokenize the text, look up each token in the GloVe embedding dictionary, and collect the corresponding vectors. If a token is not found, I use a zero vector instead. I repeat this process for all 5 choices and return a list of variable-length sequences. These will later be padded batch-wise before going into the LSTM. This method keeps the input structure flexible and better suited for sequence models.\n"
   ]
  },
  {
   "cell_type": "code",
   "execution_count": 20,
   "metadata": {},
   "outputs": [],
   "source": [
    "def encode_question_choice_lstm(question, choice, glove, dim=300):\n",
    "    sep = \" [SEP] \"\n",
    "    text = f\"{question}{sep}{choice}\"\n",
    "    tokens = preprocess_text(text)\n",
    "\n",
    "    vectors = []\n",
    "    for token in tokens:\n",
    "        if token in glove:\n",
    "            vectors.append(glove[token])\n",
    "        else:\n",
    "            vectors.append([0.0] * dim)\n",
    "\n",
    "    return np.array(vectors)\n",
    "\n",
    "def encode_all_choices_lstm(example, glove, dim=300):\n",
    "    return [encode_question_choice_lstm(example[\"question\"], choice, glove, dim)\n",
    "            for choice in example[\"choices\"]]\n"
   ]
  },
  {
   "cell_type": "markdown",
   "metadata": {},
   "source": [
    "## **20. Dataset Class for LSTM-Based Model**\n",
    "\n",
    "**Rationale:**  \n",
    "This dataset class prepares the input specifically for my LSTM model. Instead of returning fixed-size vectors like in the feedforward version, I return a list of 5 sequences with variable lengths (one for each answer choice).\n",
    "\n",
    "I do not apply any padding here, because I want to pad the sequences dynamically at the batch level. This is more efficient and avoids unnecessary zeros. Returning raw sequences keeps the dataset flexible and works well together with a custom `collate_fn` that handles padding later. This design is important for working with LSTM models that process sequences of different lengths.\n"
   ]
  },
  {
   "cell_type": "code",
   "execution_count": 21,
   "metadata": {},
   "outputs": [],
   "source": [
    "class CommonsenseQADatasetLSTM(Dataset):\n",
    "    def __init__(self, data, glove, dim=300):\n",
    "        self.data = data\n",
    "        self.glove = glove\n",
    "        self.dim = dim\n",
    "\n",
    "    def __len__(self):\n",
    "        return len(self.data)\n",
    "\n",
    "    def __getitem__(self, idx):\n",
    "        item = self.data[idx]\n",
    "        x = encode_all_choices_lstm(item, self.glove, self.dim)\n",
    "        y = item[\"label\"]\n",
    "        return x, torch.tensor(y, dtype=torch.long)\n"
   ]
  },
  {
   "cell_type": "markdown",
   "metadata": {},
   "source": [
    "## **21. Custom Collate Function for LSTM Input**\n",
    "\n",
    "**Rationale:**  \n",
    "Since the LSTM model works with sequences of different lengths, I use this `collate_fn` to pad the input dynamically per batch. I first flatten all 5 choices of every sample into one list, then apply `pad_sequence()` to pad them to the same length based on the longest sequence in the batch.\n",
    "\n",
    "After padding, I reshape the data back to `[batch_size, 5, max_len, embedding_dim]`, which is the format expected by the model. I also stack the labels into a tensor. This approach avoids padding inside the dataset and gives me more control over batch-level processing, which is important when working with sequence models like LSTMs.\n"
   ]
  },
  {
   "cell_type": "code",
   "execution_count": 22,
   "metadata": {},
   "outputs": [],
   "source": [
    "def collate_fn(batch):\n",
    "    x_batch, y_batch = zip(*batch)\n",
    "\n",
    "    flat_sequences = [\n",
    "        torch.tensor(choice, dtype=torch.float32)\n",
    "        for sample in x_batch\n",
    "        for choice in sample\n",
    "    ]\n",
    "\n",
    "    padded = pad_sequence(flat_sequences, batch_first=True)\n",
    "\n",
    "    B = len(x_batch)\n",
    "    padded = padded.view(B, 5, padded.size(1), padded.size(2))\n",
    "\n",
    "    y_tensor = torch.stack(y_batch)\n",
    "\n",
    "    return padded, y_tensor"
   ]
  },
  {
   "cell_type": "markdown",
   "metadata": {},
   "source": [
    "## **22. LSTM-Based Classifier Architecture**\n",
    "\n",
    "**Rationale:**  \n",
    "This is the model I use for sequence-based input. Each answer choice is passed through an LSTM to capture the word order and context. I reshape the input so the LSTM can process all answer options in parallel. Then, I take the last hidden state of the LSTM output, which represents the whole sequence.\n",
    "\n",
    "After that, I apply two fully connected layers with a ReLU activation in between. The final output is reshaped to `[batch_size, 5]` so the model can predict a score for each of the five choices. I chose this architecture because LSTMs can better handle complex sentence structures compared to mean-pooled embeddings.\n"
   ]
  },
  {
   "cell_type": "code",
   "execution_count": 23,
   "metadata": {},
   "outputs": [],
   "source": [
    "class QAClassifierLSTM(nn.Module):\n",
    "    def __init__(self, embedding_dim=300, hidden_dim=512, fc_dim=64, num_layers=1):\n",
    "        super().__init__()\n",
    "        self.lstm = nn.LSTM(embedding_dim, hidden_dim, num_layers=num_layers, batch_first=True)\n",
    "        self.fc1 = nn.Linear(hidden_dim, fc_dim)\n",
    "        self.relu = nn.ReLU()\n",
    "        self.fc2 = nn.Linear(fc_dim, 1)\n",
    "\n",
    "    def forward(self, x):\n",
    "        B, num_choices, seq_len, emb_dim = x.size()\n",
    "\n",
    "        x = x.view(B * num_choices, seq_len, emb_dim)\n",
    "        lstm_out, _ = self.lstm(x)\n",
    "        last_hidden = lstm_out[:, -1, :]\n",
    "\n",
    "        x = self.fc1(last_hidden)\n",
    "        x = self.relu(x)\n",
    "        x = self.fc2(x)                   \n",
    "\n",
    "        return x.view(B, num_choices)"
   ]
  },
  {
   "cell_type": "markdown",
   "metadata": {},
   "source": [
    "## **23. Dataset Preparation for LSTM Classifier**\n",
    "\n",
    "**Rationale:**  \n",
    "I use the `CommonsenseQADatasetLSTM` class to prepare the data for the LSTM model. Unlike the feedforward version, this dataset returns variable-length sequences for each answer choice, which will be padded later during batching.\n",
    "\n",
    "Using the same structure for training, validation, and test sets keeps the code consistent and modular. This step connects the raw, preprocessed data with the model in a format that supports sequential processing.\n"
   ]
  },
  {
   "cell_type": "code",
   "execution_count": 24,
   "metadata": {},
   "outputs": [],
   "source": [
    "train_dataset_lstm = CommonsenseQADatasetLSTM(train_data, glove)\n",
    "valid_dataset_lstm = CommonsenseQADatasetLSTM(valid_data, glove)\n",
    "test_dataset_lstm = CommonsenseQADatasetLSTM(test_data, glove)"
   ]
  },
  {
   "cell_type": "markdown",
   "metadata": {},
   "source": [
    "## **24. DataLoader Setup for LSTM Model**\n",
    "\n",
    "**Rationale:**  \n",
    "I use PyTorch’s `DataLoader` to batch the dataset efficiently and apply dynamic padding using my custom `collate_fn`. This is necessary for the LSTM model, which requires all sequences in a batch to have the same length.\n",
    "\n",
    "I shuffle only the training set to improve learning, while keeping the validation and test sets in fixed order for consistent evaluation. I keep the batch size at 4096 to take advantage of GPU parallelism and reduce training time, as long as memory allows.\n"
   ]
  },
  {
   "cell_type": "code",
   "execution_count": 25,
   "metadata": {},
   "outputs": [],
   "source": [
    "train_loader_lstm = DataLoader(train_dataset_lstm, batch_size=512, shuffle=True, collate_fn=collate_fn)\n",
    "valid_loader_lstm = DataLoader(valid_dataset_lstm, batch_size=512, collate_fn=collate_fn)\n",
    "test_loader_lstm = DataLoader(test_dataset_lstm, batch_size=512, collate_fn=collate_fn)"
   ]
  },
  {
   "cell_type": "markdown",
   "metadata": {},
   "source": [
    "## **25. Model Initialization for LSTM**\n",
    "\n",
    "**Rationale:**  \n",
    "I check if a GPU is available and move the LSTM model to the appropriate device. This ensures faster training and inference when CUDA is available. If not, the model runs on the CPU.\n",
    "\n",
    "I then create an instance of my `QAClassifierLSTM` model and send it to the selected device. This is required so that both the model and the input data are on the same device during training and evaluation.\n"
   ]
  },
  {
   "cell_type": "code",
   "execution_count": 26,
   "metadata": {},
   "outputs": [],
   "source": [
    "device_lstm = torch.device(\"cuda\" if torch.cuda.is_available() else \"cpu\")\n",
    "model_lstm = QAClassifierLSTM().to(device_lstm)"
   ]
  },
  {
   "cell_type": "code",
   "execution_count": 27,
   "metadata": {},
   "outputs": [],
   "source": [
    "optimizer_lstm = torch.optim.Adam(model_lstm.parameters(), lr=1e-4)\n",
    "criterion_lstm = nn.CrossEntropyLoss()"
   ]
  },
  {
   "cell_type": "markdown",
   "metadata": {},
   "source": [
    "## **26. Training and Logging for LSTM Model**\n",
    "\n",
    "**Rationale:**  \n",
    "I track the training of the LSTM model using Weights & Biases (wandb). I define the configuration of the run, including all relevant hyperparameters like batch size, learning rate, and hidden size. This helps me document each experiment clearly.\n",
    "\n",
    "Inside the training loop, I log the loss and validation accuracy after every epoch. I also save the model whenever it reaches a new best validation accuracy. Naming the saved file after the run makes it easy to identify later. At the end, I call `wandb.finish()` to properly close the run and sync all results. This setup helps me monitor progress and compare different models easily.\n"
   ]
  },
  {
   "cell_type": "code",
   "execution_count": 29,
   "metadata": {},
   "outputs": [
    {
     "data": {
      "text/html": [
       "Tracking run with wandb version 0.19.9"
      ],
      "text/plain": [
       "<IPython.core.display.HTML object>"
      ]
     },
     "metadata": {},
     "output_type": "display_data"
    },
    {
     "data": {
      "text/html": [
       "Run data is saved locally in <code>/home/jovyan/NLP-1/notebooks/wandb/run-20250407_232133-7ec3ur43</code>"
      ],
      "text/plain": [
       "<IPython.core.display.HTML object>"
      ]
     },
     "metadata": {},
     "output_type": "display_data"
    },
    {
     "data": {
      "text/html": [
       "Syncing run <strong><a href='https://wandb.ai/commonsense_qa_jonas_buerge/NLP_Project_1/runs/7ec3ur43' target=\"_blank\">lstm_run_lr_1e-4_hid_dim_512</a></strong> to <a href='https://wandb.ai/commonsense_qa_jonas_buerge/NLP_Project_1' target=\"_blank\">Weights & Biases</a> (<a href='https://wandb.me/developer-guide' target=\"_blank\">docs</a>)<br>"
      ],
      "text/plain": [
       "<IPython.core.display.HTML object>"
      ]
     },
     "metadata": {},
     "output_type": "display_data"
    },
    {
     "data": {
      "text/html": [
       " View project at <a href='https://wandb.ai/commonsense_qa_jonas_buerge/NLP_Project_1' target=\"_blank\">https://wandb.ai/commonsense_qa_jonas_buerge/NLP_Project_1</a>"
      ],
      "text/plain": [
       "<IPython.core.display.HTML object>"
      ]
     },
     "metadata": {},
     "output_type": "display_data"
    },
    {
     "data": {
      "text/html": [
       " View run at <a href='https://wandb.ai/commonsense_qa_jonas_buerge/NLP_Project_1/runs/7ec3ur43' target=\"_blank\">https://wandb.ai/commonsense_qa_jonas_buerge/NLP_Project_1/runs/7ec3ur43</a>"
      ],
      "text/plain": [
       "<IPython.core.display.HTML object>"
      ]
     },
     "metadata": {},
     "output_type": "display_data"
    },
    {
     "name": "stdout",
     "output_type": "stream",
     "text": [
      "Epoch 1 | Loss: 1.5919 | Val Acc: 0.2310\n",
      "Epoch 2 | Loss: 1.5896 | Val Acc: 0.2220\n",
      "Epoch 3 | Loss: 1.5905 | Val Acc: 0.2310\n",
      "Epoch 4 | Loss: 1.5835 | Val Acc: 0.2320\n",
      "Epoch 5 | Loss: 1.5884 | Val Acc: 0.2250\n",
      "Epoch 6 | Loss: 1.5836 | Val Acc: 0.2340\n",
      "Epoch 7 | Loss: 1.5780 | Val Acc: 0.2420\n",
      "Epoch 8 | Loss: 1.5805 | Val Acc: 0.2380\n",
      "Epoch 9 | Loss: 1.5873 | Val Acc: 0.2270\n",
      "Epoch 10 | Loss: 1.5818 | Val Acc: 0.2280\n",
      "Epoch 11 | Loss: 1.5751 | Val Acc: 0.2340\n",
      "Epoch 12 | Loss: 1.5813 | Val Acc: 0.2330\n",
      "Epoch 13 | Loss: 1.5777 | Val Acc: 0.2400\n",
      "Epoch 14 | Loss: 1.5742 | Val Acc: 0.2250\n",
      "Epoch 15 | Loss: 1.5731 | Val Acc: 0.2240\n",
      "Epoch 16 | Loss: 1.5650 | Val Acc: 0.2230\n",
      "Epoch 17 | Loss: 1.5688 | Val Acc: 0.2280\n",
      "Epoch 18 | Loss: 1.5681 | Val Acc: 0.2310\n",
      "Epoch 19 | Loss: 1.5642 | Val Acc: 0.2370\n",
      "Epoch 20 | Loss: 1.5608 | Val Acc: 0.2280\n",
      "Epoch 21 | Loss: 1.5644 | Val Acc: 0.2390\n",
      "Epoch 22 | Loss: 1.5579 | Val Acc: 0.2400\n",
      "Epoch 23 | Loss: 1.5561 | Val Acc: 0.2430\n",
      "Epoch 24 | Loss: 1.5550 | Val Acc: 0.2270\n",
      "Epoch 25 | Loss: 1.5761 | Val Acc: 0.2210\n",
      "Epoch 26 | Loss: 1.5677 | Val Acc: 0.2280\n",
      "Epoch 27 | Loss: 1.5573 | Val Acc: 0.2360\n",
      "Epoch 28 | Loss: 1.5438 | Val Acc: 0.2340\n",
      "Epoch 29 | Loss: 1.5444 | Val Acc: 0.2460\n",
      "Epoch 30 | Loss: 1.5294 | Val Acc: 0.2450\n"
     ]
    },
    {
     "data": {
      "text/html": [],
      "text/plain": [
       "<IPython.core.display.HTML object>"
      ]
     },
     "metadata": {},
     "output_type": "display_data"
    },
    {
     "data": {
      "text/html": [
       "<br>    <style><br>        .wandb-row {<br>            display: flex;<br>            flex-direction: row;<br>            flex-wrap: wrap;<br>            justify-content: flex-start;<br>            width: 100%;<br>        }<br>        .wandb-col {<br>            display: flex;<br>            flex-direction: column;<br>            flex-basis: 100%;<br>            flex: 1;<br>            padding: 10px;<br>        }<br>    </style><br><div class=\"wandb-row\"><div class=\"wandb-col\"><h3>Run history:</h3><br/><table class=\"wandb\"><tr><td>epoch</td><td>▁▁▁▂▂▂▂▃▃▃▃▄▄▄▄▅▅▅▅▆▆▆▆▇▇▇▇███</td></tr><tr><td>train_loss</td><td>███▇█▇▆▇▇▇▆▇▆▆▆▅▅▅▅▅▅▄▄▄▆▅▄▃▃▁</td></tr><tr><td>val_accuracy</td><td>▄▁▄▄▂▅▇▆▃▃▅▄▆▂▂▂▃▄▅▃▆▆▇▃▁▃▅▅██</td></tr></table><br/></div><div class=\"wandb-col\"><h3>Run summary:</h3><br/><table class=\"wandb\"><tr><td>epoch</td><td>30</td></tr><tr><td>train_loss</td><td>1.52944</td></tr><tr><td>val_accuracy</td><td>0.245</td></tr></table><br/></div></div>"
      ],
      "text/plain": [
       "<IPython.core.display.HTML object>"
      ]
     },
     "metadata": {},
     "output_type": "display_data"
    },
    {
     "data": {
      "text/html": [
       " View run <strong style=\"color:#cdcd00\">lstm_run_lr_1e-4_hid_dim_512</strong> at: <a href='https://wandb.ai/commonsense_qa_jonas_buerge/NLP_Project_1/runs/7ec3ur43' target=\"_blank\">https://wandb.ai/commonsense_qa_jonas_buerge/NLP_Project_1/runs/7ec3ur43</a><br> View project at: <a href='https://wandb.ai/commonsense_qa_jonas_buerge/NLP_Project_1' target=\"_blank\">https://wandb.ai/commonsense_qa_jonas_buerge/NLP_Project_1</a><br>Synced 5 W&B file(s), 0 media file(s), 0 artifact file(s) and 1 other file(s)"
      ],
      "text/plain": [
       "<IPython.core.display.HTML object>"
      ]
     },
     "metadata": {},
     "output_type": "display_data"
    },
    {
     "data": {
      "text/html": [
       "Find logs at: <code>./wandb/run-20250407_232133-7ec3ur43/logs</code>"
      ],
      "text/plain": [
       "<IPython.core.display.HTML object>"
      ]
     },
     "metadata": {},
     "output_type": "display_data"
    }
   ],
   "source": [
    "wandb.init(\n",
    "    entity=\"commonsense_qa_jonas_buerge\",\n",
    "    project=\"NLP_Project_1\",\n",
    "    name=\"lstm_run_lr_1e-4_hid_dim_512\",                     \n",
    "    config={\n",
    "        \"model\": \"LSTM\",\n",
    "        \"embedding_dim\": 300,\n",
    "        \"hidden_dim\": 512,\n",
    "        \"fc_dim\": 64,\n",
    "        \"num_layers\": 1,\n",
    "        \"optimizer\": \"Adam\",\n",
    "        \"lr\": 1e-4,\n",
    "        \"batch_size\": 512,\n",
    "        \"epochs\": 30\n",
    "    }\n",
    ")\n",
    "\n",
    "best_val_acc = 0.0\n",
    "\n",
    "for epoch in range(wandb.config[\"epochs\"]):\n",
    "    train_loss = train_model(model_lstm, train_loader_lstm, optimizer_lstm, criterion_lstm, device_lstm)\n",
    "    val_acc = evaluate(model_lstm, valid_loader_lstm, device_lstm)\n",
    "\n",
    "    wandb.log({\n",
    "        \"epoch\": epoch + 1,\n",
    "        \"train_loss\": train_loss,\n",
    "        \"val_accuracy\": val_acc\n",
    "    })\n",
    "    if val_acc > best_val_acc:\n",
    "        best_val_acc = val_acc\n",
    "        model_filename = f\"{wandb.run.name}_best_model.pt\"\n",
    "        torch.save(model_lstm.state_dict(), model_filename)\n",
    "        wandb.save(model_filename)\n",
    "\n",
    "    print(f\"Epoch {epoch+1} | Loss: {train_loss:.4f} | Val Acc: {val_acc:.4f}\")\n",
    "\n",
    "wandb.finish()"
   ]
  },
  {
   "cell_type": "markdown",
   "metadata": {},
   "source": [
    "## 27. Model Evaluation & Interpretation\n",
    "\n",
    "**Rationale:**  \n",
    "In this section, I compare the two best-performing models: one based on a Feedforward Neural Network (FFNN), and the other using an LSTM.  \n",
    "To better understand their behavior beyond overall accuracy, I visualized confusion matrices and calculated class-wise accuracy for both models using the validation set.\n",
    "\n",
    "The confusion matrix helps me analyze which answer options (A–E) the models predicted correctly and where they made consistent mistakes. This is especially useful to identify potential model bias towards certain answer positions.  \n",
    "Class-wise accuracy gives me a more detailed view of how well each model performs for each label independently.\n",
    "\n",
    "For this comparison, I loaded the best checkpoints from each architecture:\n",
    "- `ffnn_run_lr_1e-3,hid_dim_128`\n",
    "- `lstm_run_lr_1e-4_hid_dim_512`\n",
    "\n",
    "Both models were evaluated using the same validation set and conditions to ensure a fair comparison.  \n",
    "This deeper analysis supports the final interpretation of model behavior and limitations.\n"
   ]
  },
  {
   "cell_type": "code",
   "execution_count": 35,
   "metadata": {},
   "outputs": [
    {
     "name": "stdout",
     "output_type": "stream",
     "text": [
      "Top Models:\n"
     ]
    },
    {
     "data": {
      "text/html": [
       "<div>\n",
       "<style scoped>\n",
       "    .dataframe tbody tr th:only-of-type {\n",
       "        vertical-align: middle;\n",
       "    }\n",
       "\n",
       "    .dataframe tbody tr th {\n",
       "        vertical-align: top;\n",
       "    }\n",
       "\n",
       "    .dataframe thead th {\n",
       "        text-align: right;\n",
       "    }\n",
       "</style>\n",
       "<table border=\"1\" class=\"dataframe\">\n",
       "  <thead>\n",
       "    <tr style=\"text-align: right;\">\n",
       "      <th></th>\n",
       "      <th>Model</th>\n",
       "      <th>Run</th>\n",
       "      <th>Val Accuracy</th>\n",
       "      <th>Params</th>\n",
       "    </tr>\n",
       "  </thead>\n",
       "  <tbody>\n",
       "    <tr>\n",
       "      <th>0</th>\n",
       "      <td>FFNN</td>\n",
       "      <td>ffnn_run_lr_1e-3,hid_dim_128</td>\n",
       "      <td>0.276</td>\n",
       "      <td>hidden=128, lr=1e-3</td>\n",
       "    </tr>\n",
       "    <tr>\n",
       "      <th>1</th>\n",
       "      <td>LSTM</td>\n",
       "      <td>lstm_run_lr_1e-4_hid_dim_512</td>\n",
       "      <td>0.246</td>\n",
       "      <td>hidden=512, lr=1e-4</td>\n",
       "    </tr>\n",
       "  </tbody>\n",
       "</table>\n",
       "</div>"
      ],
      "text/plain": [
       "  Model                           Run  Val Accuracy               Params\n",
       "0  FFNN  ffnn_run_lr_1e-3,hid_dim_128         0.276  hidden=128, lr=1e-3\n",
       "1  LSTM  lstm_run_lr_1e-4_hid_dim_512         0.246  hidden=512, lr=1e-4"
      ]
     },
     "metadata": {},
     "output_type": "display_data"
    },
    {
     "name": "stdout",
     "output_type": "stream",
     "text": [
      "\n",
      "===== FFNN Model Evaluation =====\n"
     ]
    },
    {
     "data": {
      "image/png": "[encoded data removed]",
      "text/plain": [
       "<Figure size 640x480 with 2 Axes>"
      ]
     },
     "metadata": {},
     "output_type": "display_data"
    },
    {
     "name": "stdout",
     "output_type": "stream",
     "text": [
      "\n",
      "Accuracy per class:\n",
      "  Class A: 28.50%\n",
      "  Class B: 30.14%\n",
      "  Class C: 24.47%\n",
      "  Class D: 28.72%\n",
      "  Class E: 25.76%\n",
      "\n",
      "===== LSTM Model Evaluation =====\n"
     ]
    },
    {
     "data": {
      "image/png": "[encoded data removed]",
      "text/plain": [
       "<Figure size 640x480 with 2 Axes>"
      ]
     },
     "metadata": {},
     "output_type": "display_data"
    },
    {
     "name": "stdout",
     "output_type": "stream",
     "text": [
      "\n",
      "Accuracy per class:\n",
      "  Class A: 20.50%\n",
      "  Class B: 25.11%\n",
      "  Class C: 29.79%\n",
      "  Class D: 24.10%\n",
      "  Class E: 23.74%\n"
     ]
    }
   ],
   "source": [
    "import pandas as pd\n",
    "from sklearn.metrics import confusion_matrix, ConfusionMatrixDisplay\n",
    "import matplotlib.pyplot as plt\n",
    "import torch\n",
    "\n",
    "results = [\n",
    "    {\"Model\": \"FFNN\", \"Run\": \"ffnn_run_lr_1e-3,hid_dim_128\", \"Val Accuracy\": 0.2760, \"Params\": \"hidden=128, lr=1e-3\"},\n",
    "    {\"Model\": \"LSTM\", \"Run\": \"lstm_run_lr_1e-4_hid_dim_512\", \"Val Accuracy\": 0.2460, \"Params\": \"hidden=512, lr=1e-4\"},\n",
    "]\n",
    "\n",
    "df_results = pd.DataFrame(results)\n",
    "print(\"Top Models:\")\n",
    "display(df_results)\n",
    "\n",
    "def plot_confusion_matrix(model, dataloader, device, title=\"Confusion Matrix\"):\n",
    "    model.eval()\n",
    "    all_preds = []\n",
    "    all_labels = []\n",
    "\n",
    "    with torch.no_grad():\n",
    "        for x_batch, y_batch in dataloader:\n",
    "            x_batch = x_batch.to(device)\n",
    "            y_batch = y_batch.to(device)\n",
    "            logits = model(x_batch)\n",
    "            preds = torch.argmax(logits, dim=1)\n",
    "            all_preds.extend(preds.cpu().numpy())\n",
    "            all_labels.extend(y_batch.cpu().numpy())\n",
    "\n",
    "    cm = confusion_matrix(all_labels, all_preds, labels=[0, 1, 2, 3, 4])\n",
    "    disp = ConfusionMatrixDisplay(confusion_matrix=cm, display_labels=['A', 'B', 'C', 'D', 'E'])\n",
    "    disp.plot(cmap=\"Blues\")\n",
    "    disp.ax_.set_title(title)\n",
    "    plt.show()\n",
    "\n",
    "def accuracy_per_class(model, dataloader, device):\n",
    "    correct = [0] * 5\n",
    "    total = [0] * 5\n",
    "\n",
    "    model.eval()\n",
    "    with torch.no_grad():\n",
    "        for x_batch, y_batch in dataloader:\n",
    "            x_batch = x_batch.to(device)\n",
    "            y_batch = y_batch.to(device)\n",
    "            logits = model(x_batch)\n",
    "            preds = torch.argmax(logits, dim=1)\n",
    "\n",
    "            for i in range(len(y_batch)):\n",
    "                label = y_batch[i].item()\n",
    "                pred = preds[i].item()\n",
    "                total[label] += 1\n",
    "                if label == pred:\n",
    "                    correct[label] += 1\n",
    "\n",
    "    print(\"\\nAccuracy per class:\")\n",
    "    for i in range(5):\n",
    "        acc = 100 * correct[i] / total[i] if total[i] > 0 else 0\n",
    "        print(f\"  Class {chr(65+i)}: {acc:.2f}%\")\n",
    "\n",
    "print(\"\\n===== FFNN Model Evaluation =====\")\n",
    "ffnn_model = QAClassifierFFNN()\n",
    "ffnn_model.load_state_dict(torch.load(\"ffnn_run_lr_1e-3,hid_dim_128_best_model.pt\"))\n",
    "ffnn_model.to(device)\n",
    "\n",
    "plot_confusion_matrix(ffnn_model, valid_loader, device, title=\"FFNN Confusion Matrix\")\n",
    "accuracy_per_class(ffnn_model, valid_loader, device)\n",
    "\n",
    "print(\"\\n===== LSTM Model Evaluation =====\")\n",
    "lstm_model = QAClassifierLSTM(hidden_dim=512)\n",
    "lstm_model.load_state_dict(torch.load(\"lstm_run_lr_1e-4_hid_dim_512_best_model.pt\"))\n",
    "lstm_model.to(device)\n",
    "\n",
    "plot_confusion_matrix(lstm_model, valid_loader_lstm, device_lstm, title=\"LSTM Confusion Matrix\")\n",
    "accuracy_per_class(lstm_model, valid_loader_lstm, device_lstm,)\n"
   ]
  },
  {
   "cell_type": "markdown",
   "metadata": {},
   "source": [
    "## 28. Interpretation & Discussion\n",
    "\n",
    "**Interpretation:**  \n",
    "In the final comparison, the Feedforward Neural Network (FFNN) outperformed the LSTM model in terms of validation accuracy, despite being the simpler architecture. The FFNN achieved this result with a large batch size of 4096, while the LSTM used a smaller batch size of 512 due to GPU memory limitations.\n",
    "\n",
    "This result suggests that for this setup – using static, mean-pooled GloVe embeddings – the FFNN was better suited to the task. The LSTM did not benefit much from sequential modeling, possibly because word order in the input was already lost during mean pooling or because of insufficient training stability.\n",
    "\n",
    "The confusion matrix for both models showed some imbalance across the answer options (A–E), but the FFNN was more consistent overall. The LSTM seemed to struggle especially with certain classes, possibly due to its higher complexity and limited tuning.\n",
    "\n",
    "**Limitations & What I would improve next time:**\n",
    "\n",
    "- **Hyperparameter tuning:**  \n",
    "  I only tested a small number of settings (e.g., learning rate, hidden dimension). For more robust conclusions, I would invest more time into systematic tuning using wandb sweeps or grid search. Especially test over more epochs - it's not a good sign if the last epoch was the best one. However, due to time and hardware limitations, and the fact that this was not the focus of this project, I decided to stop.\n",
    "\n",
    "- **Early stopping:**  \n",
    "  Training was done for a fixed number of epochs. Early stopping based on validation accuracy or loss would help avoid overfitting and save compute time.\n",
    "\n",
    "- **Evaluation diversity:**  \n",
    "  I relied mainly on accuracy. Including additional metrics like precision, recall, or F1-score could give a more nuanced view, especially in imbalanced scenarios.\n",
    "\n",
    "In summary, the FFNN performed better in this setup due to its simplicity, efficient optimization with large batches, and the limited value of sequential modeling in the current embedding strategy. The LSTM model would likely require more tuning and architectural adaptation to show its full potential.\n"
   ]
  },
  {
   "cell_type": "markdown",
   "metadata": {},
   "source": [
    "## Tools\n",
    "\n",
    "- **ChatGPT (Advanced Python GPT)** → Code support, debugging\n",
    "- **Weights & Biases** → Experiment tracking, logging & model comparison  \n",
    "  ↳ [docs.wandb.ai](https://docs.wandb.ai/) – Logging & Analysis Documentation  \n",
    "- **Hugging Face Datasets** → Loading and managing CommonsenseQA  \n",
    "  ↳ [huggingface.co/datasets](https://huggingface.co/datasets/commonsense_qa)  \n",
    "- **GloVe (via gensim)** → Pre-trained word embeddings  \n",
    "  ↳ [nlp.stanford.edu/projects/glove](https://nlp.stanford.edu/projects/glove)  \n",
    "- **PyTorch Documentation** → Model creation, optimizer setup, loss functions  \n",
    "  ↳ [pytorch.org/docs](https://pytorch.org/docs/stable/index.html)  \n",
    "- **Scikit-learn** → Evaluation metrics & confusion matrix  \n",
    "  ↳ [scikit-learn.org](https://scikit-learn.org/stable/)\n"
   ]
  },
  {
   "cell_type": "markdown",
   "metadata": {},
   "source": [
    "**Experiment tracking report:** [View report on WandB](https://wandb.ai/commonsense_qa_jonas_buerge/NLP_Project_1/reports/NLP-Project-1--VmlldzoxMjE3NTU3NA)\n"
   ]
  }
 ],
 "metadata": {
  "kernelspec": {
   "display_name": "Python 3 (ipykernel)",
   "language": "python",
   "name": "python3"
  },
  "language_info": {
   "codemirror_mode": {
    "name": "ipython",
    "version": 3
   },
   "file_extension": ".py",
   "mimetype": "text/x-python",
   "name": "python",
   "nbconvert_exporter": "python",
   "pygments_lexer": "ipython3",
   "version": "3.12.9"
  }
 },
 "nbformat": 4,
 "nbformat_minor": 4
}
